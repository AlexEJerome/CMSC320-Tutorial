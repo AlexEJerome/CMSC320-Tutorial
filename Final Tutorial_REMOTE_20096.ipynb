{
 "cells": [
  {
   "cell_type": "markdown",
   "metadata": {},
   "source": [
    "# The Final Tutorial : What Makes a Good Headline?\n",
    "### The results will shock you!\n"
   ]
  },
  {
   "cell_type": "code",
   "execution_count": 5,
   "metadata": {},
   "outputs": [
    {
     "name": "stdout",
     "output_type": "stream",
     "text": [
      "Requirement already satisfied: webhoseio in c:\\users\\alexe\\anaconda3\\lib\\site-packages (0.5)\n",
      "Requirement already satisfied: requests>=2.0.0 in c:\\users\\alexe\\anaconda3\\lib\\site-packages (from webhoseio) (2.19.1)\n",
      "Requirement already satisfied: urllib3<1.24,>=1.21.1 in c:\\users\\alexe\\anaconda3\\lib\\site-packages (from requests>=2.0.0->webhoseio) (1.23)\n",
      "Requirement already satisfied: idna<2.8,>=2.5 in c:\\users\\alexe\\anaconda3\\lib\\site-packages (from requests>=2.0.0->webhoseio) (2.7)\n",
      "Requirement already satisfied: chardet<3.1.0,>=3.0.2 in c:\\users\\alexe\\anaconda3\\lib\\site-packages (from requests>=2.0.0->webhoseio) (3.0.4)\n",
      "Requirement already satisfied: certifi>=2017.4.17 in c:\\users\\alexe\\anaconda3\\lib\\site-packages (from requests>=2.0.0->webhoseio) (2018.8.24)\n"
     ]
    }
   ],
   "source": [
    "!pip install webhoseio"
   ]
  },
  {
   "cell_type": "code",
   "execution_count": 6,
   "metadata": {},
   "outputs": [],
   "source": [
    "import pandas as pd\n",
    "import webhoseio\n",
    "\n",
    "# put your own webhoseio api key in the my_api_key variable.\n",
    "# (run api_key.py is to prevent the key from being shown publicly on github)\n",
    "# There will be a error, but it won't affect anything.\n",
    "\n",
    "my_api_key = \"\"\n",
    "%run api_key.py\n",
    "\n",
    "# Try to avoid re-running this one alot we have 1000 queries max. already at 975\n",
    "\n",
    "webhoseio.config(token=my_api_key)\n",
    "query_params = {\n",
    "    \"q\": \"language:english site_type:news social.facebook.likes:>500\",\n",
    "    \"ts\": \"1542059049078\",\n",
    "    \"sort\": \"social.facebook.likes\"\n",
    "    }\n",
    "output = webhoseio.query(\"filterWebContent\", query_params)"
   ]
  },
  {
   "cell_type": "code",
   "execution_count": 7,
   "metadata": {},
   "outputs": [
    {
     "name": "stdout",
     "output_type": "stream",
     "text": [
      "0     Alexandria Ocasio-Cortez Wants to Replace Colu...\n",
      "1     Every President Recited This Prayer Except Tru...\n",
      "2     George H.W. Bush's service dog Sully lays by h...\n",
      "3     George W. Bush and Michelle Obama continue tra...\n",
      "4     Small bookstores are booming after nearly bein...\n",
      "5     Trump: I'm thankful for the difference I've ma...\n",
      "6     Trump: I'm thankful for the difference I've ma...\n",
      "7     California church’s untouched wooden cross bec...\n",
      "8     \"LOOK: Maymay Entrata slays on the runway at A...\n",
      "9     Bob Dole salutes George H.W. Bush, standing fr...\n",
      "10    Nebraska principal reportedly bans candy canes...\n",
      "11    Luxembourg to become first country to make all...\n",
      "12    Football gossip: Pogba, Toure, Morata, Llorent...\n",
      "13    Pure Comedy: Surveillance Footage Captures A B...\n",
      "14    IN PHOTOS: Maymay’s international catwalk debu...\n",
      "15    CNN files lawsuit against Trump Administration...\n",
      "16    Cameron Underwood: Face transplant means I can...\n",
      "17    Ammon Bundy Quits Militia Movement, Defends Mi...\n",
      "18    6ix9ine threatens to \"fuck up\" 50 Cent - but 5...\n",
      "19    Climate change will be devastating for US, hur...\n",
      "20    Climate change will be devastating for US, hur...\n",
      "21    Arizona Man Accidentally Shoots Himself in Gro...\n",
      "22    Arizona Man Accidentally Shoots Himself in Gro...\n",
      "23    Ammon Bundy Quits Militia Movement, Defends Mi...\n",
      "24    Ammon Bundy Quits Militia Movement, Defends Mi...\n",
      "25      LOOK: Aljur Abrenica, Kylie Padilla get married\n",
      "26    Democrat Kyrsten Sinema Becomes Arizona’s Firs...\n",
      "27    ABC Faces Blowback as Panelists Joke About Tru...\n",
      "28    George H.W. Bush’s dog Sully lies in front of ...\n",
      "29    George HW Bush's service dog Sully pays touchi...\n",
      "                            ...                        \n",
      "70    Taiwan's President Tsai quits as ruling party ...\n",
      "71    Taiwan's President Tsai quits as ruling party ...\n",
      "72    'The Lion King' Live-Action To Animation Compa...\n",
      "73    Progressives unseated all 59 Republican judges...\n",
      "74    Progressives unseated all 59 Republican judges...\n",
      "75    Kid Rock Pays Off $81k in Layaways for Nashvil...\n",
      "76    Hilary Duff Just Confirmed That a 'Lizzie McGu...\n",
      "77    Joe Biden believes he is the 'most qualified p...\n",
      "78    Ocasio-Cortez Will Pay Her Interns $15 An Hour...\n",
      "79    A 7-year-old boy is making $22 million a year ...\n",
      "80    A 7-year-old boy is making $22 million a year ...\n",
      "81    Two more Republicans go down in California as ...\n",
      "82              Anne Curtis asks for prayers for father\n",
      "83    PETA compares 'bring home the bacon' with raci...\n",
      "84    PETA compares 'bring home the bacon' with raci...\n",
      "85    Almost 150 whales strand and die on New Zealan...\n",
      "86    Almost 150 whales strand and die on New Zealan...\n",
      "87    Supreme Court gives victory to Planned Parenth...\n",
      "88    New Zealand whale stranding: 'I will never for...\n",
      "89    Pink's husband issues warns 'looters will be s...\n",
      "90     Luxembourg set to make all public transport free\n",
      "91     Luxembourg set to make all public transport free\n",
      "92    A Texas cotton farmer is battling cancer and c...\n",
      "93    Judge allows lawsuit against Trump Foundation ...\n",
      "94    Pink's husband warns 'looters will be shot on ...\n",
      "95    Burger King Is Bringing Back Cini Minis From t...\n",
      "96    White House ordered to restore CNN reporter Ji...\n",
      "97    Trump ordered to allow CNN journalist back - B...\n",
      "98    Trump ordered to allow CNN journalist back - B...\n",
      "99    Court filings present Trump as key figure in m...\n",
      "Length: 100, dtype: object\n"
     ]
    }
   ],
   "source": [
    "titles_list = []\n",
    "for post in output['posts']:\n",
    "    titles_list = titles_list + [post['thread']['title']]\n",
    "titles = pd.Series(titles_list)\n",
    "print(titles)\n",
    "\n",
    "#  Let's use the stuff below when we finally get a good idea of what we want\n",
    "#     r = webhoseio.query(\"filterWebContent\", {\"q\":\"skyrim\"})\n",
    "#     while True:\n",
    "#         for post in r['posts']:\n",
    "#             perform_action(post)\n",
    "#         time.sleep(300)\n",
    "#         r = webhoseio.get_next "
   ]
  }
 ],
 "metadata": {
  "kernelspec": {
   "display_name": "Python 3",
   "language": "python",
   "name": "python3"
  },
  "language_info": {
   "codemirror_mode": {
    "name": "ipython",
    "version": 3
   },
   "file_extension": ".py",
   "mimetype": "text/x-python",
   "name": "python",
   "nbconvert_exporter": "python",
   "pygments_lexer": "ipython3",
   "version": "3.7.0"
  }
 },
 "nbformat": 4,
 "nbformat_minor": 2
}
