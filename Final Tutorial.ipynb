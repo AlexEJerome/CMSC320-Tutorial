{
 "cells": [
  {
   "cell_type": "markdown",
   "metadata": {},
   "source": [
    "# The Final Tutorial : What Makes a Good Headline\n",
    "## README\n",
    "<hr />\n",
    "To make the webhosio work, install it via \n",
    "\n",
    "`pip install webhosio` \n",
    "\n",
    "in jupyter terminal\n",
    " "
   ]
  },
  {
   "cell_type": "code",
   "execution_count": 36,
   "metadata": {},
   "outputs": [],
   "source": [
    "import pandas as pd\n",
    "import webhoseio\n",
    "\n",
    "my_api_key = \"\"\n",
    "\n",
    "# Try to avoid re-running this one alot we have 1000 queries max. already at 975\n",
    "\n",
    "webhoseio.config(token=my_api_key)\n",
    "query_params = {\n",
    "    \"q\": \"language:english site_type:news\",\n",
    "    \"ts\": \"1542059049078\",\n",
    "    \"sort\": \"social.facebook.likes\"\n",
    "    }\n",
    "output = webhoseio.query(\"filterWebContent\", query_params)"
   ]
  },
  {
   "cell_type": "code",
   "execution_count": 43,
   "metadata": {},
   "outputs": [
    {
     "name": "stdout",
     "output_type": "stream",
     "text": [
      "0     Alexandria Ocasio-Cortez Wants to Replace Colu...\n",
      "1     Every President Recited This Prayer Except Tru...\n",
      "2     George H.W. Bush's service dog Sully lays by h...\n",
      "3     George W. Bush and Michelle Obama continue tra...\n",
      "4     Small bookstores are booming after nearly bein...\n",
      "5     Trump: I'm thankful for the difference I've ma...\n",
      "6     Trump: I'm thankful for the difference I've ma...\n",
      "7     California church’s untouched wooden cross bec...\n",
      "8     \"LOOK: Maymay Entrata slays on the runway at A...\n",
      "9     Bob Dole salutes George H.W. Bush, standing fr...\n",
      "10    Nebraska principal reportedly bans candy canes...\n",
      "11    Luxembourg to become first country to make all...\n",
      "12    Pure Comedy: Surveillance Footage Captures A B...\n",
      "13    IN PHOTOS: Maymay’s international catwalk debu...\n",
      "14    CNN files lawsuit against Trump Administration...\n",
      "15    Cameron Underwood: Face transplant means I can...\n",
      "16    Ammon Bundy Quits Militia Movement, Defends Mi...\n",
      "17    6ix9ine threatens to \"fuck up\" 50 Cent - but 5...\n",
      "18    Climate change will be devastating for US, hur...\n",
      "19    Climate change will be devastating for US, hur...\n",
      "20    Arizona Man Accidentally Shoots Himself in Gro...\n",
      "21    Arizona Man Accidentally Shoots Himself in Gro...\n",
      "22    Ammon Bundy Quits Militia Movement, Defends Mi...\n",
      "23    Ammon Bundy Quits Militia Movement, Defends Mi...\n",
      "24      LOOK: Aljur Abrenica, Kylie Padilla get married\n",
      "25    Democrat Kyrsten Sinema Becomes Arizona’s Firs...\n",
      "26    ABC Faces Blowback as Panelists Joke About Tru...\n",
      "27    George H.W. Bush’s dog Sully lies in front of ...\n",
      "28    George HW Bush's service dog Sully pays touchi...\n",
      "29    George HW Bush's service dog Sully pays touchi...\n",
      "                            ...                        \n",
      "70    'The Lion King' Live-Action To Animation Compa...\n",
      "71    Progressives unseated all 59 Republican judges...\n",
      "72    Progressives unseated all 59 Republican judges...\n",
      "73    Kid Rock Pays Off $81k in Layaways for Nashvil...\n",
      "74    Hilary Duff Just Confirmed That a 'Lizzie McGu...\n",
      "75    Joe Biden believes he is the 'most qualified p...\n",
      "76    Ocasio-Cortez Will Pay Her Interns $15 An Hour...\n",
      "77    A 7-year-old boy is making $22 million a year ...\n",
      "78    A 7-year-old boy is making $22 million a year ...\n",
      "79    Two more Republicans go down in California as ...\n",
      "80              Anne Curtis asks for prayers for father\n",
      "81    PETA compares 'bring home the bacon' with raci...\n",
      "82    PETA compares 'bring home the bacon' with raci...\n",
      "83    Almost 150 whales strand and die on New Zealan...\n",
      "84    Almost 150 whales strand and die on New Zealan...\n",
      "85    New Zealand whale stranding: 'I will never for...\n",
      "86    Pink's husband issues warns 'looters will be s...\n",
      "87     Luxembourg set to make all public transport free\n",
      "88     Luxembourg set to make all public transport free\n",
      "89    A Texas cotton farmer is battling cancer and c...\n",
      "90    Judge allows lawsuit against Trump Foundation ...\n",
      "91    Pink's husband warns 'looters will be shot on ...\n",
      "92    Burger King Is Bringing Back Cini Minis From t...\n",
      "93    White House ordered to restore CNN reporter Ji...\n",
      "94    Trump ordered to allow CNN journalist back - B...\n",
      "95    Trump ordered to allow CNN journalist back - B...\n",
      "96    Court filings present Trump as key figure in m...\n",
      "97    James Alex Fields, Unite The Right Protester W...\n",
      "98    'Where's labor? Activists?': Alexandria Ocasio...\n",
      "99    Rami Malek's Live Aid Performance In Bohemian ...\n",
      "Length: 100, dtype: object\n"
     ]
    }
   ],
   "source": [
    "titles_list = []\n",
    "for post in output['posts']:\n",
    "    titles_list = titles_list + [post['thread']['title']]\n",
    "titles = pd.Series(titles_list)\n",
    "print(titles)\n",
    "\n",
    "#  Let's use the stuff below when we finally get a good idea of what we want\n",
    "#     r = webhoseio.query(\"filterWebContent\", {\"q\":\"skyrim\"})\n",
    "#     while True:\n",
    "#         for post in r['posts']:\n",
    "#             perform_action(post)\n",
    "#         time.sleep(300)\n",
    "#         r = webhoseio.get_next()"
   ]
  }
 ],
 "metadata": {
  "kernelspec": {
   "display_name": "Python 3",
   "language": "python",
   "name": "python3"
  },
  "language_info": {
   "codemirror_mode": {
    "name": "ipython",
    "version": 3
   },
   "file_extension": ".py",
   "mimetype": "text/x-python",
   "name": "python",
   "nbconvert_exporter": "python",
   "pygments_lexer": "ipython3",
   "version": "3.6.3"
  }
 },
 "nbformat": 4,
 "nbformat_minor": 2
}
